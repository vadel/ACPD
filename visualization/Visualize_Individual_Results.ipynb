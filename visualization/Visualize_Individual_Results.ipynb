{
 "cells": [
  {
   "cell_type": "code",
   "execution_count": null,
   "metadata": {
    "collapsed": true
   },
   "outputs": [],
   "source": [
    "import sys\n",
    "import struct\n",
    "import numpy as np\n",
    "import matplotlib\n",
    "import matplotlib.pyplot as plt\n",
    "import random\n",
    "import math\n",
    "import re\n",
    "from scipy.stats import entropy\n",
    "import scipy as sp\n",
    "import collections"
   ]
  },
  {
   "cell_type": "code",
   "execution_count": null,
   "metadata": {
    "collapsed": true
   },
   "outputs": [],
   "source": [
    "root_path = \"../\"\n",
    "\n",
    "#Selected dataset\n",
    "sel_dataset = \"speech_commands\"\n",
    "\n",
    "#Load the problem labels\n",
    "labels_file_path = root_path + \"datasets/speech_commands_v0.02/conv_actions_labels.txt\"\n",
    "labels = open(labels_file_path,'r').read().split('\\n')\n",
    "print(labels)\n",
    "num_classes = len(labels) #Number of classes\n",
    "\n",
    "\n",
    "#Load the set of target distributions\n",
    "p_y_obj_set_idx = 2 #1: 100 random dirichlets, 2: uniform distribution (1/k,...,1/k)\n",
    "validation_folder = root_path + \"/optimization/validation/\"\n",
    "p_y_obj_set = np.load(validation_folder + \"p_y_obj_set_%d.npy\"%p_y_obj_set_idx)\n",
    "\n",
    "\n",
    "#Select a target distribution from the set\n",
    "i_p = 0\n",
    "assert i_p>=0 and i_p<len(p_y_obj_set), \"Invalid index for the target distribution\"\n",
    "\n",
    "p_y_obj = np.copy(p_y_obj_set[i_p])\n",
    "print(\"Target distribution:\")\n",
    "print(p_y_obj)"
   ]
  },
  {
   "cell_type": "code",
   "execution_count": null,
   "metadata": {
    "collapsed": true
   },
   "outputs": [],
   "source": [
    "sel_attack  = \"deepfool\" #Selected attack\n",
    "# Attack setup\n",
    "overshoot_df = 0.02\n",
    "attack_params = [overshoot_df] \n",
    "param_appendix_patt = \"_ov_%s\"%(str(overshoot_df)) + \"_eps_%s_iters_%d_start_%d_fold_%d.npy\""
   ]
  },
  {
   "cell_type": "code",
   "execution_count": null,
   "metadata": {
    "collapsed": true
   },
   "outputs": [],
   "source": [
    "#Reachability thresholds\n",
    "max_iter_thr = 30\n",
    "max_dist_thr = 0.1\n",
    "#Other options: [0.0005, 0.001, 0.0025, 0.005, 0.01, 0.05, 0.1, 0.15] #l2 norm"
   ]
  },
  {
   "cell_type": "code",
   "execution_count": null,
   "metadata": {
    "collapsed": true
   },
   "outputs": [],
   "source": [
    "#Number of samples per class (total, train and validation)\n",
    "N_per_class = 1000\n",
    "N_per_class_train = 500\n",
    "N_per_class_valid = N_per_class - N_per_class_train \n",
    "print(\"N_per_class_train: %d\"%N_per_class_train)\n",
    "print(\"N_per_class_valid: %d\"%N_per_class_valid)\n",
    "\n",
    "samples_per_class_train = [N_per_class_train for i in range(num_classes)] \n",
    "samples_per_class_valid = [N_per_class_valid for i in range(num_classes)]\n",
    "print(\"Samples per class (train):\", samples_per_class_train)\n",
    "print(\"Samples per class (valid):\", samples_per_class_valid)\n",
    "\n",
    "#k-fold setup:\n",
    "i_start = 1\n",
    "i_fold  = 0"
   ]
  },
  {
   "cell_type": "code",
   "execution_count": null,
   "metadata": {
    "collapsed": true
   },
   "outputs": [],
   "source": [
    "#Select method\n",
    "#sel_method = \"m1\"   #Agnostic Method (AM)\n",
    "sel_method  = \"m2\"   #Upper-bound Method (UBM)\n",
    "#sel_method = \"m3\"   #Element-wise Transformation Method (EWTM)\n",
    "#sel_method = \"m4\"   #Chain-rule Method (CRM)\n",
    "#sel_method = \"mab\"  #Maximum Approximation Baseline (MAB)\n",
    "#sel_method = \"mfrb\" #Maximum Fooling Rate Baseline (MFRB)"
   ]
  },
  {
   "cell_type": "code",
   "execution_count": null,
   "metadata": {
    "collapsed": true
   },
   "outputs": [],
   "source": [
    "#Path containing the results for the current method & setup\n",
    "results_root = root_path + \"optimization/%s/%s/results_%s/\"%(sel_dataset, sel_attack, sel_method)\n",
    "load_path = results_root + \"p_y_obj_set_%d/\"%p_y_obj_set_idx\n",
    "load_path = load_path    + \"N_train_%d/\"%(N_per_class_train)\n",
    "print(load_path)"
   ]
  },
  {
   "cell_type": "code",
   "execution_count": null,
   "metadata": {
    "collapsed": true
   },
   "outputs": [],
   "source": [
    "param_appendix = param_appendix_patt%(str(max_dist_thr), max_iter_thr, i_start, i_fold)"
   ]
  },
  {
   "cell_type": "code",
   "execution_count": null,
   "metadata": {
    "collapsed": true
   },
   "outputs": [],
   "source": [
    "success_optimization = np.load(load_path + \"success_opt\" + param_appendix)"
   ]
  },
  {
   "cell_type": "code",
   "execution_count": null,
   "metadata": {
    "collapsed": true
   },
   "outputs": [],
   "source": [
    "opt_fr        = np.load(load_path + \"opt_fr\" + param_appendix)\n",
    "fooling_rates = np.load(load_path + \"fr\"     + param_appendix)\n",
    "\n",
    "print(\"FR: %.5f, Opt FR: %.5f\" % (fooling_rates[i_p], opt_fr))"
   ]
  },
  {
   "cell_type": "code",
   "execution_count": null,
   "metadata": {
    "collapsed": true
   },
   "outputs": [],
   "source": [
    "kl_diver_obj  = np.load(load_path + \"kl_obj\"       + param_appendix)\n",
    "max_diff_obj  = np.load(load_path + \"max_dif_obj\"  + param_appendix)\n",
    "mean_diff_obj = np.load(load_path + \"mean_dif_obj\" + param_appendix)\n",
    "\n",
    "print(\"KL:  \", np.round(kl_diver_obj[i_p],  5))\n",
    "print(\"MAX: \", np.round(max_diff_obj[i_p],  5))\n",
    "print(\"MEAN:\", np.round(mean_diff_obj[i_p], 5))"
   ]
  },
  {
   "cell_type": "code",
   "execution_count": null,
   "metadata": {
    "collapsed": true
   },
   "outputs": [],
   "source": [
    "save_orig_classes = np.load(load_path + \"save_orig_classes\" + param_appendix)\n",
    "save_adv_classes  = np.load(load_path + \"save_adv_classes\"  + param_appendix)\n",
    "\n",
    "\n",
    "original_classes  = np.copy(save_orig_classes[i_p,:])\n",
    "predicted_classes = np.copy(save_adv_classes[i_p,:])\n",
    "original_props    = np.array( [np.sum(original_classes==l)/len(original_classes)  for l in range(num_classes)] )\n",
    "adversarial_props = np.array( [np.sum(predicted_classes==l)/len(predicted_classes) for l in range(num_classes)] )"
   ]
  },
  {
   "cell_type": "code",
   "execution_count": null,
   "metadata": {
    "collapsed": true
   },
   "outputs": [],
   "source": [
    "save_path = \"/tmp/\" #directory to save the figure"
   ]
  },
  {
   "cell_type": "code",
   "execution_count": null,
   "metadata": {
    "collapsed": true
   },
   "outputs": [],
   "source": [
    "labels_str = [\"Sil.\", \"Unk.\", \"Yes\", \"No\", \"Up\", \"Down\", \"Left\", \"Right\", \"On\", \"Off\", \"Stop\", \"Go\"]\n",
    "f, ax = plt.subplots()\n",
    "#matplotlib.rc('figure', figsize=(5.5, 3.9))\n",
    "matplotlib.rc('figure', figsize=(5.2, 3.6))\n",
    "plt.plot(original_props, label=\"Original class distribution $\\mathcal{P}(Y)$\", color=\"red\", marker=\"^\", markersize=8)\n",
    "if p_y_obj_set_idx==1:\n",
    "    plt.plot(p_y_obj, label=\"Target class distribution $\\mathcal{P}(Y)$\", \n",
    "             color=\"black\", marker=\"s\", markersize=8)\n",
    "plt.plot(adversarial_props, label=\"Generated class distribution $\\hat{\\mathcal{P}}(Y)$\", color=\"green\", marker=\".\", markersize=8)\n",
    "plt.ylim([-0.02,0.35])\n",
    "plt.title(\"$\\epsilon=%s, \\ \\ \\  D_{KL}(\\mathcal{P}(Y), \\hat{\\mathcal{P}}(Y))=%.5f$\"%(str(max_dist_thr), kl_diver_obj[i_p], ), size=15)\n",
    "plt.xlabel(\"Class\", size=14)\n",
    "plt.ylabel(\"Probability\", size=14)\n",
    "plt.yticks(fontsize=12)\n",
    "ax.set_xticks(np.array(range(0,12))-0.17)\n",
    "ax.set_xticklabels([l.replace(\"_\", \"\") for l in labels_str], size=14, rotation=90)\n",
    "ax.tick_params(axis='x', which='major', pad=-140, length=0)\n",
    "plt.legend(loc=\"upper center\", fontsize=14, labelspacing=0.05,  bbox_to_anchor=(0.5,1.02), ncol=1)\n",
    "\n",
    "for i in range(12):\n",
    "    plt.axvline(x=i,color='gray',linestyle='--', linewidth=0.7)\n",
    "\n",
    "matplotlib.pyplot.gcf().set_size_inches(5.3, 3.6)\n",
    "plt.savefig(save_path + \"%s_comparison_%s.pdf\"%(sel_method,str(max_dist_thr)), bbox_inches='tight', dpi=300)\n",
    "plt.show()"
   ]
  },
  {
   "cell_type": "code",
   "execution_count": null,
   "metadata": {
    "collapsed": true
   },
   "outputs": [],
   "source": []
  }
 ],
 "metadata": {
  "kernelspec": {
   "display_name": "Python 3",
   "language": "python",
   "name": "python3"
  },
  "language_info": {
   "codemirror_mode": {
    "name": "ipython",
    "version": 3
   },
   "file_extension": ".py",
   "mimetype": "text/x-python",
   "name": "python",
   "nbconvert_exporter": "python",
   "pygments_lexer": "ipython3",
   "version": "3.5.2"
  }
 },
 "nbformat": 4,
 "nbformat_minor": 2
}
